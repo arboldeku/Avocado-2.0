{
 "cells": [
  {
   "cell_type": "code",
   "execution_count": 29,
   "metadata": {},
   "outputs": [],
   "source": [
    "import pandas as pd\n",
    "\n",
    "# Load the avocado dataset\n",
    "file_path = '../dataset/Avocado_HassAvocadoBoard_20152023v1.0.1.csv'\n",
    "avocado_df = pd.read_csv(file_path)"
   ]
  },
  {
   "cell_type": "code",
   "execution_count": 30,
   "metadata": {},
   "outputs": [],
   "source": [
    "avocado_df['Date'] = pd.to_datetime(avocado_df['Date'])\n",
    "\n",
    "df = avocado_df[avocado_df['Date'] > '2022-01-02']\n",
    "\n",
    "df.to_csv('../dataset/avocado_2022-2023.csv', index=False)\n"
   ]
  },
  {
   "cell_type": "code",
   "execution_count": 31,
   "metadata": {},
   "outputs": [
    {
     "name": "stdout",
     "output_type": "stream",
     "text": [
      "<class 'pandas.core.frame.DataFrame'>\n",
      "Index: 11800 entries, 41615 to 53414\n",
      "Data columns (total 12 columns):\n",
      " #   Column        Non-Null Count  Dtype         \n",
      "---  ------        --------------  -----         \n",
      " 0   Date          11800 non-null  datetime64[ns]\n",
      " 1   AveragePrice  11800 non-null  float64       \n",
      " 2   TotalVolume   11800 non-null  float64       \n",
      " 3   plu4046       11800 non-null  float64       \n",
      " 4   plu4225       11800 non-null  float64       \n",
      " 5   plu4770       11800 non-null  float64       \n",
      " 6   TotalBags     11800 non-null  float64       \n",
      " 7   SmallBags     0 non-null      float64       \n",
      " 8   LargeBags     0 non-null      float64       \n",
      " 9   XLargeBags    0 non-null      float64       \n",
      " 10  type          11800 non-null  object        \n",
      " 11  region        11800 non-null  object        \n",
      "dtypes: datetime64[ns](1), float64(9), object(2)\n",
      "memory usage: 1.2+ MB\n",
      "None\n"
     ]
    }
   ],
   "source": [
    "print(df.info())"
   ]
  },
  {
   "cell_type": "code",
   "execution_count": 32,
   "metadata": {},
   "outputs": [
    {
     "name": "stdout",
     "output_type": "stream",
     "text": [
      "<class 'pandas.core.frame.DataFrame'>\n",
      "Index: 208 entries, 0 to 51\n",
      "Data columns (total 10 columns):\n",
      " #   Column              Non-Null Count  Dtype \n",
      "---  ------              --------------  ----- \n",
      " 0   Week Ending         208 non-null    object\n",
      " 1   Year                208 non-null    int64 \n",
      " 2   Status              208 non-null    object\n",
      " 3   Total Volume        208 non-null    object\n",
      " 4   California          208 non-null    object\n",
      " 5   Chile               208 non-null    object\n",
      " 6   Mexico              182 non-null    object\n",
      " 7   Peru                208 non-null    object\n",
      " 8   Colombia            208 non-null    object\n",
      " 9   Dominican Republic  156 non-null    object\n",
      "dtypes: int64(1), object(9)\n",
      "memory usage: 17.9+ KB\n",
      "None\n"
     ]
    }
   ],
   "source": [
    "file_paths = ['../dataset/Volume Hass Avocado Board Suppliers 2022.csv',\n",
    "              '../dataset/Volume Hass Avocado Board Suppliers 2023.csv',\n",
    "              '../dataset/Volume Hass Avocado Board Suppliers 2024.csv',\n",
    "              '../dataset/Volume Hass Avocado Board Suppliers 2025 (projection).csv']\n",
    "\n",
    "suppliers_df = pd.concat([pd.read_csv(file) for file in file_paths])\n",
    "\n",
    "suppliers_df.to_csv('../dataset/merged_suppliers.csv', index=False)\n",
    "\n",
    "print(suppliers_df.info())"
   ]
  }
 ],
 "metadata": {
  "kernelspec": {
   "display_name": "Python 3",
   "language": "python",
   "name": "python3"
  },
  "language_info": {
   "codemirror_mode": {
    "name": "ipython",
    "version": 3
   },
   "file_extension": ".py",
   "mimetype": "text/x-python",
   "name": "python",
   "nbconvert_exporter": "python",
   "pygments_lexer": "ipython3",
   "version": "3.9.6"
  }
 },
 "nbformat": 4,
 "nbformat_minor": 2
}
