{
 "cells": [
  {
   "cell_type": "code",
   "execution_count": 14,
   "metadata": {},
   "outputs": [],
   "source": [
    "import pandas as pd\n",
    "\n",
    "# Load the avocado dataset\n",
    "file_path = '../dataset/Avocado_HassAvocadoBoard_20152023v1.0.1.csv'\n",
    "avocado_df = pd.read_csv(file_path)"
   ]
  },
  {
   "cell_type": "code",
   "execution_count": 15,
   "metadata": {},
   "outputs": [
    {
     "name": "stdout",
     "output_type": "stream",
     "text": [
      "<class 'pandas.core.frame.DataFrame'>\n",
      "RangeIndex: 53415 entries, 0 to 53414\n",
      "Data columns (total 12 columns):\n",
      " #   Column        Non-Null Count  Dtype  \n",
      "---  ------        --------------  -----  \n",
      " 0   Date          53415 non-null  object \n",
      " 1   AveragePrice  53415 non-null  float64\n",
      " 2   TotalVolume   53415 non-null  float64\n",
      " 3   plu4046       53415 non-null  float64\n",
      " 4   plu4225       53415 non-null  float64\n",
      " 5   plu4770       53415 non-null  float64\n",
      " 6   TotalBags     53415 non-null  float64\n",
      " 7   SmallBags     41025 non-null  float64\n",
      " 8   LargeBags     41025 non-null  float64\n",
      " 9   XLargeBags    41025 non-null  float64\n",
      " 10  type          53415 non-null  object \n",
      " 11  region        53415 non-null  object \n",
      "dtypes: float64(9), object(3)\n",
      "memory usage: 4.9+ MB\n",
      "None\n"
     ]
    }
   ],
   "source": [
    "print(avocado_df.info())"
   ]
  },
  {
   "cell_type": "code",
   "execution_count": 16,
   "metadata": {},
   "outputs": [
    {
     "name": "stdout",
     "output_type": "stream",
     "text": [
      "         Date  AveragePrice  TotalVolume    plu4046    plu4225   plu4770  \\\n",
      "0  2015-01-04          1.22     40873.28    2819.50   28287.42     49.90   \n",
      "1  2015-01-04          1.79      1373.95      57.42     153.88      0.00   \n",
      "2  2015-01-04          1.00    435021.49  364302.39   23821.16     82.15   \n",
      "3  2015-01-04          1.76      3846.69    1500.15     938.35      0.00   \n",
      "4  2015-01-04          1.08    788025.06   53987.31  552906.04  39995.03   \n",
      "\n",
      "   TotalBags  SmallBags  LargeBags  XLargeBags          type  \\\n",
      "0    9716.46    9186.93     529.53         0.0  conventional   \n",
      "1    1162.65    1162.65       0.00         0.0       organic   \n",
      "2   46815.79   16707.15   30108.64         0.0  conventional   \n",
      "3    1408.19    1071.35     336.84         0.0       organic   \n",
      "4  141136.68  137146.07    3990.61         0.0  conventional   \n",
      "\n",
      "                region  \n",
      "0               Albany  \n",
      "1               Albany  \n",
      "2              Atlanta  \n",
      "3              Atlanta  \n",
      "4  BaltimoreWashington  \n"
     ]
    }
   ],
   "source": [
    "# Display the first few rows of the dataset\n",
    "print(avocado_df.head())"
   ]
  },
  {
   "cell_type": "code",
   "execution_count": 28,
   "metadata": {},
   "outputs": [
    {
     "name": "stdout",
     "output_type": "stream",
     "text": [
      "            Date  AveragePrice  TotalVolume    plu4046    plu4225  plu4770  \\\n",
      "18369 2018-04-01      1.046781     98799.94   12614.66   62032.39    61.59   \n",
      "18370 2018-04-01      1.857166      2321.73     146.08     220.82     0.00   \n",
      "18371 2018-04-01      1.097461    546304.64  239780.15   28051.07  1617.55   \n",
      "18372 2018-04-01      1.670534     24966.76     455.98    4059.84     0.00   \n",
      "18373 2018-04-01      1.410264    768943.03   86269.20  445490.08  4587.75   \n",
      "\n",
      "       TotalBags  SmallBags  LargeBags  XLargeBags          type  \\\n",
      "18369   22510.23        0.0        0.0         0.0  conventional   \n",
      "18370    1954.84        0.0        0.0         0.0       organic   \n",
      "18371   88846.86        0.0        0.0         0.0  conventional   \n",
      "18372    7858.33        0.0        0.0         0.0       organic   \n",
      "18373  225712.26        0.0        0.0         0.0  conventional   \n",
      "\n",
      "                    region       Data  \n",
      "18369               Albany 2018-04-01  \n",
      "18370               Albany 2018-04-01  \n",
      "18371              Atlanta 2018-04-01  \n",
      "18372              Atlanta 2018-04-01  \n",
      "18373  BaltimoreWashington 2018-04-01  \n"
     ]
    }
   ],
   "source": [
    "# Convert the \"Data\" column to datetime format\n",
    "avocado_df['Date'] = pd.to_datetime(avocado_df['Date'])\n",
    "\n",
    "# Filter the dataset for records after March 2018\n",
    "df = avocado_df[avocado_df['Date'] > '2018-03-25']\n",
    "\n",
    "# Display the first few rows of the filtered dataset\n",
    "print(df.head())"
   ]
  },
  {
   "cell_type": "code",
   "execution_count": 29,
   "metadata": {},
   "outputs": [
    {
     "name": "stdout",
     "output_type": "stream",
     "text": [
      "<class 'pandas.core.frame.DataFrame'>\n",
      "Index: 35046 entries, 18369 to 53414\n",
      "Data columns (total 13 columns):\n",
      " #   Column        Non-Null Count  Dtype         \n",
      "---  ------        --------------  -----         \n",
      " 0   Date          35046 non-null  datetime64[ns]\n",
      " 1   AveragePrice  35046 non-null  float64       \n",
      " 2   TotalVolume   35046 non-null  float64       \n",
      " 3   plu4046       35046 non-null  float64       \n",
      " 4   plu4225       35046 non-null  float64       \n",
      " 5   plu4770       35046 non-null  float64       \n",
      " 6   TotalBags     35046 non-null  float64       \n",
      " 7   SmallBags     22656 non-null  float64       \n",
      " 8   LargeBags     22656 non-null  float64       \n",
      " 9   XLargeBags    22656 non-null  float64       \n",
      " 10  type          35046 non-null  object        \n",
      " 11  region        35046 non-null  object        \n",
      " 12  Data          35046 non-null  datetime64[ns]\n",
      "dtypes: datetime64[ns](2), float64(9), object(2)\n",
      "memory usage: 3.7+ MB\n",
      "None\n"
     ]
    }
   ],
   "source": [
    "print(df.info())"
   ]
  }
 ],
 "metadata": {
  "kernelspec": {
   "display_name": "Python 3",
   "language": "python",
   "name": "python3"
  },
  "language_info": {
   "codemirror_mode": {
    "name": "ipython",
    "version": 3
   },
   "file_extension": ".py",
   "mimetype": "text/x-python",
   "name": "python",
   "nbconvert_exporter": "python",
   "pygments_lexer": "ipython3",
   "version": "3.9.6"
  }
 },
 "nbformat": 4,
 "nbformat_minor": 2
}
